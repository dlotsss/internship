{
 "cells": [
  {
   "cell_type": "code",
   "execution_count": 1,
   "metadata": {},
   "outputs": [],
   "source": [
    "import pandas as pd \n",
    "\n",
    "lab_a = pd.read_csv('Invitro.csv')\n",
    "lab_b = pd.read_csv('OpenHealth.csv')\n",
    "lab_c = pd.read_csv('Invivo.csv')\n",
    "\n",
    "lab_a['Лаборатория'] = 'Invitro'\n",
    "lab_b['Лаборатория'] = 'OpenHealth'\n",
    "lab_c['Лаборатория'] = 'Invivo'"
   ]
  },
  {
   "cell_type": "markdown",
   "metadata": {},
   "source": [
    "added the column with name of laboratory to dataframes"
   ]
  },
  {
   "cell_type": "code",
   "execution_count": 2,
   "metadata": {},
   "outputs": [],
   "source": [
    "all_labs = pd.concat([lab_a, lab_b, lab_c], ignore_index=True)"
   ]
  },
  {
   "cell_type": "markdown",
   "metadata": {},
   "source": [
    "united all labs into one dataframe"
   ]
  },
  {
   "cell_type": "code",
   "execution_count": 3,
   "metadata": {},
   "outputs": [
    {
     "data": {
      "text/plain": [
       "Index(['Код', 'Наименование', 'Биоматериал', 'Тип результата',\n",
       "       'Лаборатория исполнения', 'Алматы, СРОК', 'Партнерская цена, в тенге.',\n",
       "       'Цена для клиентов на сайте checkdoc', 'Лаборатория',\n",
       "       'Перечень исследований', 'Розница', 'Партнерская', 'Тип контейнера',\n",
       "       'Срок готовности', 'Цена', 'Цена со скидкой', 'Сроки выполнения'],\n",
       "      dtype='object')"
      ]
     },
     "execution_count": 3,
     "metadata": {},
     "output_type": "execute_result"
    }
   ],
   "source": [
    "all_labs.columns"
   ]
  },
  {
   "cell_type": "code",
   "execution_count": 4,
   "metadata": {},
   "outputs": [],
   "source": [
    "all_labs['Партнерская цена'] = all_labs['Партнерская'].combine_first(all_labs['Партнерская цена, в тенге.'])\n",
    "all_labs['Наименование анализа'] = all_labs['Наименование'].combine_first(all_labs['Перечень исследований'])\n",
    "all_labs['Сроки готовности'] = all_labs['Срок готовности'].combine_first(all_labs['Сроки выполнения'])\n",
    "all_labs['Сроки готовности'] = all_labs['Сроки готовности'].combine_first(all_labs['Алматы, СРОК'])\n",
    "\n",
    "all_labs.drop(columns='Партнерская', inplace=True)\n",
    "all_labs.drop(columns='Партнерская цена, в тенге.', inplace=True)\n",
    "all_labs.drop(columns='Наименование', inplace=True)\n",
    "all_labs.drop(columns='Перечень исследований', inplace=True)\n",
    "all_labs.drop(columns='Срок готовности', inplace=True)\n",
    "all_labs.drop(columns='Сроки выполнения', inplace=True)\n",
    "all_labs.drop(columns='Алматы, СРОК', inplace=True)\n"
   ]
  },
  {
   "cell_type": "markdown",
   "metadata": {},
   "source": [
    "так как есть две разных колонки \"партнерская\" и \"партнерская цена в тенге\", которые хранят значения для разных лабораторий, объединила их в одну колонку - \"партнерская цена\". Она работает по принципу если есть значение из первой колонки, то оставляю его, если нет, то ставлю то, что во второй. Тоже самое с наименованием и сроком готовности, а ненужные столбцы удаляем"
   ]
  },
  {
   "cell_type": "code",
   "execution_count": 5,
   "metadata": {},
   "outputs": [
    {
     "data": {
      "text/plain": [
       "Наименование анализа\n",
       "Мочевина                                                                                                                                                                                                                                                              3\n",
       "Витамин С (аскорбиновая кислота)                                                                                                                                                                                                                                      3\n",
       "Тромбиновое время                                                                                                                                                                                                                                                     3\n",
       "АПТВ (активированное парциальное тромбопластинновое время)                                                                                                                                                                                                            3\n",
       "Пренатальная ДНК-диагностика атаксии Фридрейха                                                                                                                                                                                                                        3\n",
       "                                                                                                                                                                                                                                                                     ..\n",
       "Синдром тестикулярной феминизации (СТФ, синдром Морриса). Поиск мутаций в гене AR, м. (Testicular Feminization Syndrome, Gene AR, Mut.)                                                                                                                               1\n",
       "Спинально-бульбарная амиотрофия Кеннеди. Поиск частых мутаций в гене AR, ч. м. (Kennedy Spinal and Bulbar Muscular Atrophy, Gene AR, Freq. Mut.)                                                                                                                      1\n",
       "Синдром Бьернстада (синдром курчавых волос). Поиск мутаций в гене BCS1L, м. (Bjornstad Syndrome, Gene BCS1L, Mut.)                                                                                                                                                    1\n",
       "Болезнь Беста. Поиск всех известных мутаций в гене BEST1, м. (Best Vitelliform Macular Dystrophy, All Known Mutations, Gene BEST1, Mut.)                                                                                                                              1\n",
       "Антинуклеарный фактор на клеточной линии HEp-2 (АНФ), Антифосфолипидные антитела (АФС) (к кардиолипину, фосфатидной кислоте, фосфатидилхолину, фосфатидилэтаноламину, фосфатидилглицеролу, фосфатидилинозитолу, фосфатидилсерину, аннексину V, b2GPI, протромбину)    1\n",
       "Name: count, Length: 4022, dtype: int64"
      ]
     },
     "execution_count": 5,
     "metadata": {},
     "output_type": "execute_result"
    }
   ],
   "source": [
    "all_labs[\"Наименование анализа\"].value_counts()"
   ]
  },
  {
   "cell_type": "code",
   "execution_count": 6,
   "metadata": {},
   "outputs": [],
   "source": [
    "def is_section_header(row):\n",
    "    name = str(row['Наименование анализа'])\n",
    "    return (\n",
    "        pd.notna(name) and\n",
    "        pd.isna(row['Код']) and\n",
    "        pd.isna(row.get('Партнерская цена', None)) and\n",
    "        pd.isna(row.get('Цена', None)) and\n",
    "        pd.isna(row.get('Цена для клиентов на сайте checkdoc', None))\n",
    "    )\n",
    "\n",
    "all_labs['is_header'] = all_labs.apply(is_section_header, axis=1)\n"
   ]
  },
  {
   "cell_type": "markdown",
   "metadata": {},
   "source": [
    "так как в изначальном документе в таблицах OpenHealth и Invivo классификация по категориям проводилась буквально перед всеми анализами (капс в наименовании), относящимся к этой категории, сейчас компьютер думает, что название категории это название еще одного анализа. То есть мы написали функцию, которая выбирает столбец Наименование, ищет название написаное капсом и при этом чтобы остальные строки были NaN. Так как мы указали axis=1, то он будет применять эту функцию к каждой строке и искать название секции. Apply() возвращает True, если всё что написано в теле функции окажется правдой "
   ]
  },
  {
   "cell_type": "code",
   "execution_count": 7,
   "metadata": {},
   "outputs": [],
   "source": [
    "category_col = []\n",
    "current_category = None\n",
    "\n",
    "\n",
    "for is_header, name in zip(all_labs['is_header'], all_labs['Наименование анализа']):\n",
    "    if is_header:\n",
    "        current_category = str(name).title() \n",
    "        category_col.append(None)  \n",
    "    else:\n",
    "        category_col.append(current_category)\n",
    "\n",
    "all_labs['Категория'] = category_col"
   ]
  },
  {
   "cell_type": "markdown",
   "metadata": {},
   "source": [
    "мы создаем пустой лист, куда будем складывать значения категорий для каждого из анализов (то есть построчно). Так же ставим значение текущей категории дефолтное - NaN. В цикле берем булевые значения (категория/не категория) и само наименование анализов. Если категория, то меняем значение текущей категории на это название (но уже не капсом), при этом в лист категорий добавляем NaN, потому что потом мы просто уберем эту строку (так как там лежит не наименование анализа и она нам не нужна). Но если это не категория, то тогда мы добавляем в список категорий название текущей категории, чтобы потом у этого анализа была именна эта категория. В конце уже создаем новую колонку категория, которой присваеваем значения списка"
   ]
  },
  {
   "cell_type": "code",
   "execution_count": 8,
   "metadata": {},
   "outputs": [],
   "source": [
    "all_labs = all_labs[~all_labs['is_header']].copy()\n",
    "all_labs.drop(columns='is_header', inplace=True)"
   ]
  },
  {
   "cell_type": "markdown",
   "metadata": {},
   "source": [
    "`~all_labs['is_header']` тоже самое что НЕ КАТЕГОРИИ, то есть в датафрейме all_labs мы оставляем копию дата фрейма all_labs где в колонке \"is_header\" лежат не категории (то есть чистим от просто названий категорий)\n",
    "\n",
    "а дальше уже просто удаляем и саму колонку \"is_header\", потому что она нам не нужна больше"
   ]
  },
  {
   "cell_type": "code",
   "execution_count": 9,
   "metadata": {},
   "outputs": [],
   "source": [
    "all_labs['Партнерская цена'] = all_labs['Партнерская цена'].combine_first(all_labs['Цена со скидкой'])\n",
    "all_labs.drop(columns=\"Цена со скидкой\", inplace=True)"
   ]
  },
  {
   "cell_type": "markdown",
   "metadata": {},
   "source": [
    "узнала, что партнерская цена = цена со скидкой по значению от ментора, так что теперь я добавила и это в парнерскую цену и удалила лищний столбец "
   ]
  },
  {
   "cell_type": "code",
   "execution_count": 10,
   "metadata": {},
   "outputs": [
    {
     "data": {
      "text/html": [
       "<div>\n",
       "<style scoped>\n",
       "    .dataframe tbody tr th:only-of-type {\n",
       "        vertical-align: middle;\n",
       "    }\n",
       "\n",
       "    .dataframe tbody tr th {\n",
       "        vertical-align: top;\n",
       "    }\n",
       "\n",
       "    .dataframe thead th {\n",
       "        text-align: right;\n",
       "    }\n",
       "</style>\n",
       "<table border=\"1\" class=\"dataframe\">\n",
       "  <thead>\n",
       "    <tr style=\"text-align: right;\">\n",
       "      <th></th>\n",
       "      <th>Код</th>\n",
       "      <th>Биоматериал</th>\n",
       "      <th>Тип результата</th>\n",
       "      <th>Лаборатория исполнения</th>\n",
       "      <th>Цена для клиентов на сайте checkdoc</th>\n",
       "      <th>Лаборатория</th>\n",
       "      <th>Розница</th>\n",
       "      <th>Тип контейнера</th>\n",
       "      <th>Цена</th>\n",
       "      <th>Партнерская цена</th>\n",
       "      <th>Наименование анализа</th>\n",
       "      <th>Сроки готовности</th>\n",
       "      <th>Категория</th>\n",
       "    </tr>\n",
       "  </thead>\n",
       "  <tbody>\n",
       "    <tr>\n",
       "      <th>1852</th>\n",
       "      <td>NaN</td>\n",
       "      <td>NaN</td>\n",
       "      <td>NaN</td>\n",
       "      <td>NaN</td>\n",
       "      <td>0.0</td>\n",
       "      <td>OpenHealth</td>\n",
       "      <td>NaN</td>\n",
       "      <td>NaN</td>\n",
       "      <td>NaN</td>\n",
       "      <td>NaN</td>\n",
       "      <td>ГЕМОСТАЗИОЛОГИЧЕСКИЕ ИССЛЕДОВАНИЯ</td>\n",
       "      <td>NaN</td>\n",
       "      <td>Гематологические Исследования</td>\n",
       "    </tr>\n",
       "    <tr>\n",
       "      <th>1870</th>\n",
       "      <td>NaN</td>\n",
       "      <td>NaN</td>\n",
       "      <td>NaN</td>\n",
       "      <td>NaN</td>\n",
       "      <td>0.0</td>\n",
       "      <td>OpenHealth</td>\n",
       "      <td>NaN</td>\n",
       "      <td>NaN</td>\n",
       "      <td>NaN</td>\n",
       "      <td>NaN</td>\n",
       "      <td>ОБЩЕКЛИНИЧЕCКИЕ ИCCЛЕДОВАНИЯ</td>\n",
       "      <td>NaN</td>\n",
       "      <td>Гематологические Исследования</td>\n",
       "    </tr>\n",
       "    <tr>\n",
       "      <th>1896</th>\n",
       "      <td>NaN</td>\n",
       "      <td>NaN</td>\n",
       "      <td>NaN</td>\n",
       "      <td>NaN</td>\n",
       "      <td>0.0</td>\n",
       "      <td>OpenHealth</td>\n",
       "      <td>NaN</td>\n",
       "      <td>NaN</td>\n",
       "      <td>NaN</td>\n",
       "      <td>NaN</td>\n",
       "      <td>БИОХИМИЧЕСКИЕ ИССЛЕДОВАНИЯ МОЧИ</td>\n",
       "      <td>NaN</td>\n",
       "      <td>Гематологические Исследования</td>\n",
       "    </tr>\n",
       "    <tr>\n",
       "      <th>1918</th>\n",
       "      <td>NaN</td>\n",
       "      <td>NaN</td>\n",
       "      <td>NaN</td>\n",
       "      <td>NaN</td>\n",
       "      <td>0.0</td>\n",
       "      <td>OpenHealth</td>\n",
       "      <td>NaN</td>\n",
       "      <td>NaN</td>\n",
       "      <td>NaN</td>\n",
       "      <td>NaN</td>\n",
       "      <td>БИОХИМИЧЕСКИЕ ИССЛЕДОВАНИЯ КРОВИ</td>\n",
       "      <td>NaN</td>\n",
       "      <td>Гематологические Исследования</td>\n",
       "    </tr>\n",
       "    <tr>\n",
       "      <th>1967</th>\n",
       "      <td>NaN</td>\n",
       "      <td>NaN</td>\n",
       "      <td>NaN</td>\n",
       "      <td>NaN</td>\n",
       "      <td>0.0</td>\n",
       "      <td>OpenHealth</td>\n",
       "      <td>NaN</td>\n",
       "      <td>NaN</td>\n",
       "      <td>NaN</td>\n",
       "      <td>NaN</td>\n",
       "      <td>Cпецифические белки (Specific proteins)</td>\n",
       "      <td>NaN</td>\n",
       "      <td>Гематологические Исследования</td>\n",
       "    </tr>\n",
       "    <tr>\n",
       "      <th>...</th>\n",
       "      <td>...</td>\n",
       "      <td>...</td>\n",
       "      <td>...</td>\n",
       "      <td>...</td>\n",
       "      <td>...</td>\n",
       "      <td>...</td>\n",
       "      <td>...</td>\n",
       "      <td>...</td>\n",
       "      <td>...</td>\n",
       "      <td>...</td>\n",
       "      <td>...</td>\n",
       "      <td>...</td>\n",
       "      <td>...</td>\n",
       "    </tr>\n",
       "    <tr>\n",
       "      <th>3782</th>\n",
       "      <td>Посев на грибы рода Candida с определения чувс...</td>\n",
       "      <td>NaN</td>\n",
       "      <td>NaN</td>\n",
       "      <td>NaN</td>\n",
       "      <td>NaN</td>\n",
       "      <td>Invivo</td>\n",
       "      <td>NaN</td>\n",
       "      <td>NaN</td>\n",
       "      <td>NaN</td>\n",
       "      <td>NaN</td>\n",
       "      <td>NaN</td>\n",
       "      <td>NaN</td>\n",
       "      <td>Микробиологические Исследования</td>\n",
       "    </tr>\n",
       "    <tr>\n",
       "      <th>3796</th>\n",
       "      <td>Посев на золотистый стафилококк с определением...</td>\n",
       "      <td>NaN</td>\n",
       "      <td>NaN</td>\n",
       "      <td>NaN</td>\n",
       "      <td>NaN</td>\n",
       "      <td>Invivo</td>\n",
       "      <td>NaN</td>\n",
       "      <td>NaN</td>\n",
       "      <td>NaN</td>\n",
       "      <td>NaN</td>\n",
       "      <td>NaN</td>\n",
       "      <td>NaN</td>\n",
       "      <td>Микробиологические Исследования</td>\n",
       "    </tr>\n",
       "    <tr>\n",
       "      <th>3804</th>\n",
       "      <td>Прочие посевы</td>\n",
       "      <td>NaN</td>\n",
       "      <td>NaN</td>\n",
       "      <td>NaN</td>\n",
       "      <td>NaN</td>\n",
       "      <td>Invivo</td>\n",
       "      <td>NaN</td>\n",
       "      <td>NaN</td>\n",
       "      <td>NaN</td>\n",
       "      <td>NaN</td>\n",
       "      <td>NaN</td>\n",
       "      <td>NaN</td>\n",
       "      <td>Микробиологические Исследования</td>\n",
       "    </tr>\n",
       "    <tr>\n",
       "      <th>4150</th>\n",
       "      <td>Исполнитель</td>\n",
       "      <td>NaN</td>\n",
       "      <td>NaN</td>\n",
       "      <td>NaN</td>\n",
       "      <td>NaN</td>\n",
       "      <td>Invivo</td>\n",
       "      <td>NaN</td>\n",
       "      <td>NaN</td>\n",
       "      <td>NaN</td>\n",
       "      <td>NaN</td>\n",
       "      <td>Антинуклеарные антитела IgG (ANA: dsDNA, Nucle...</td>\n",
       "      <td>NaN</td>\n",
       "      <td>Антинуклеарный Фактор На Клеточной Линии Hep-2...</td>\n",
       "    </tr>\n",
       "    <tr>\n",
       "      <th>4156</th>\n",
       "      <td>*Имеются требования по забору биоматериала</td>\n",
       "      <td>NaN</td>\n",
       "      <td>NaN</td>\n",
       "      <td>NaN</td>\n",
       "      <td>NaN</td>\n",
       "      <td>Invivo</td>\n",
       "      <td>NaN</td>\n",
       "      <td>NaN</td>\n",
       "      <td>NaN</td>\n",
       "      <td>NaN</td>\n",
       "      <td>NaN</td>\n",
       "      <td>NaN</td>\n",
       "      <td>Антинуклеарный Фактор На Клеточной Линии Hep-2...</td>\n",
       "    </tr>\n",
       "  </tbody>\n",
       "</table>\n",
       "<p>132 rows × 13 columns</p>\n",
       "</div>"
      ],
      "text/plain": [
       "                                                    Код Биоматериал  \\\n",
       "1852                                                NaN         NaN   \n",
       "1870                                                NaN         NaN   \n",
       "1896                                                NaN         NaN   \n",
       "1918                                                NaN         NaN   \n",
       "1967                                                NaN         NaN   \n",
       "...                                                 ...         ...   \n",
       "3782  Посев на грибы рода Candida с определения чувс...         NaN   \n",
       "3796  Посев на золотистый стафилококк с определением...         NaN   \n",
       "3804                                      Прочие посевы         NaN   \n",
       "4150                                        Исполнитель         NaN   \n",
       "4156         *Имеются требования по забору биоматериала         NaN   \n",
       "\n",
       "     Тип результата Лаборатория исполнения  \\\n",
       "1852            NaN                    NaN   \n",
       "1870            NaN                    NaN   \n",
       "1896            NaN                    NaN   \n",
       "1918            NaN                    NaN   \n",
       "1967            NaN                    NaN   \n",
       "...             ...                    ...   \n",
       "3782            NaN                    NaN   \n",
       "3796            NaN                    NaN   \n",
       "3804            NaN                    NaN   \n",
       "4150            NaN                    NaN   \n",
       "4156            NaN                    NaN   \n",
       "\n",
       "     Цена для клиентов на сайте checkdoc Лаборатория  Розница Тип контейнера  \\\n",
       "1852                                 0.0  OpenHealth      NaN            NaN   \n",
       "1870                                 0.0  OpenHealth      NaN            NaN   \n",
       "1896                                 0.0  OpenHealth      NaN            NaN   \n",
       "1918                                 0.0  OpenHealth      NaN            NaN   \n",
       "1967                                 0.0  OpenHealth      NaN            NaN   \n",
       "...                                  ...         ...      ...            ...   \n",
       "3782                                 NaN      Invivo      NaN            NaN   \n",
       "3796                                 NaN      Invivo      NaN            NaN   \n",
       "3804                                 NaN      Invivo      NaN            NaN   \n",
       "4150                                 NaN      Invivo      NaN            NaN   \n",
       "4156                                 NaN      Invivo      NaN            NaN   \n",
       "\n",
       "     Цена Партнерская цена                               Наименование анализа  \\\n",
       "1852  NaN              NaN                  ГЕМОСТАЗИОЛОГИЧЕСКИЕ ИССЛЕДОВАНИЯ   \n",
       "1870  NaN              NaN                       ОБЩЕКЛИНИЧЕCКИЕ ИCCЛЕДОВАНИЯ   \n",
       "1896  NaN              NaN                    БИОХИМИЧЕСКИЕ ИССЛЕДОВАНИЯ МОЧИ   \n",
       "1918  NaN              NaN                   БИОХИМИЧЕСКИЕ ИССЛЕДОВАНИЯ КРОВИ   \n",
       "1967  NaN              NaN            Cпецифические белки (Specific proteins)   \n",
       "...   ...              ...                                                ...   \n",
       "3782  NaN              NaN                                                NaN   \n",
       "3796  NaN              NaN                                                NaN   \n",
       "3804  NaN              NaN                                                NaN   \n",
       "4150  NaN              NaN  Антинуклеарные антитела IgG (ANA: dsDNA, Nucle...   \n",
       "4156  NaN              NaN                                                NaN   \n",
       "\n",
       "     Сроки готовности                                          Категория  \n",
       "1852              NaN                      Гематологические Исследования  \n",
       "1870              NaN                      Гематологические Исследования  \n",
       "1896              NaN                      Гематологические Исследования  \n",
       "1918              NaN                      Гематологические Исследования  \n",
       "1967              NaN                      Гематологические Исследования  \n",
       "...               ...                                                ...  \n",
       "3782              NaN                    Микробиологические Исследования  \n",
       "3796              NaN                    Микробиологические Исследования  \n",
       "3804              NaN                    Микробиологические Исследования  \n",
       "4150              NaN  Антинуклеарный Фактор На Клеточной Линии Hep-2...  \n",
       "4156              NaN  Антинуклеарный Фактор На Клеточной Линии Hep-2...  \n",
       "\n",
       "[132 rows x 13 columns]"
      ]
     },
     "execution_count": 10,
     "metadata": {},
     "output_type": "execute_result"
    }
   ],
   "source": [
    "all_labs[all_labs['Партнерская цена'].isna()]"
   ]
  },
  {
   "cell_type": "markdown",
   "metadata": {},
   "source": [
    "Проверила, что названия категорий все еще остались типа как анализы. Так же в самом экселе клиники invivo оказались какие-то непонятные строчки, которые не несут в себе никакой реальной информации. Эти строчки не имеют никакой информации, там все колонки (кроме наименования и категории) это NaN.  "
   ]
  },
  {
   "cell_type": "code",
   "execution_count": 11,
   "metadata": {},
   "outputs": [],
   "source": [
    "bad_rows = (\n",
    "    (all_labs['Партнерская цена'].isna() | (all_labs['Партнерская цена'].astype(str).str.strip() == '')) &\n",
    "    (all_labs['Цена для клиентов на сайте checkdoc'].isna() | (all_labs['Цена для клиентов на сайте checkdoc'] == 0.0)) &\n",
    "    (all_labs['Сроки готовности'].isna() | (all_labs['Сроки готовности'].astype(str).str.strip() == ''))&\n",
    "    (all_labs['Тип результата'].isna() | (all_labs['Тип результата'].astype(str).str.strip() == '')) \n",
    ")\n",
    "\n",
    "all_labs = all_labs[~bad_rows].copy()\n",
    "\n"
   ]
  },
  {
   "cell_type": "markdown",
   "metadata": {},
   "source": [
    "я собрала все строки в которых отсуствует вся информация по критерию что они либо содержат везде NaN, либо 0 или пустую строку и удалила эти плохие строки \n",
    "\n",
    ".strip() deletes spaces before and after the text"
   ]
  },
  {
   "cell_type": "code",
   "execution_count": 12,
   "metadata": {},
   "outputs": [],
   "source": [
    "import re\n",
    "def clean(text):\n",
    "    return re.sub(r'[^\\w\\s]', '', str(text.lower()).strip())\n",
    "\n",
    "all_labs['Имя без символов'] = all_labs['Наименование анализа'].apply(clean)\n"
   ]
  },
  {
   "cell_type": "markdown",
   "metadata": {},
   "source": [
    "re – built-in library in Python to determine the pattern and replace/match it \n",
    "\n",
    "re.sub(pattern, replacing to what, text) - this is how it works \n",
    "\n",
    "r'[^\\w\\s]'\n",
    "w - letters, numbers and underscore\n",
    "s - space \n",
    "[^] - not \n",
    "\n",
    "so, r'[^\\w\\s]' means everything but letters, numbers, underscores and spaces \n",
    "\n",
    "there are also many other functions for re \n",
    "\n",
    "here, in order to make the function work, we need to use .apply()\n"
   ]
  },
  {
   "cell_type": "code",
   "execution_count": 13,
   "metadata": {},
   "outputs": [
    {
     "data": {
      "text/plain": [
       "Имя без символов\n",
       "тромбиновое время                                           3\n",
       "витамин с аскорбиновая кислота                              3\n",
       "аптв активированное парциальное тромбопластинновое время    3\n",
       "парвовирус в19 определение днк                              3\n",
       "фибриноген                                                  3\n",
       "                                                           ..\n",
       "ген фибриногена  fbg g455a                                  1\n",
       "ген ингибитора активатора плазминогена  pai1 5g4g           1\n",
       "ген метионинсинтазы  mtr a2756g                             1\n",
       "ген метионинсинтазы редуктазы  mtrr a66g                    1\n",
       "обследование на антифосфолипидный синдром афс               1\n",
       "Name: count, Length: 3751, dtype: int64"
      ]
     },
     "execution_count": 13,
     "metadata": {},
     "output_type": "execute_result"
    }
   ],
   "source": [
    "all_labs['Имя без символов'].value_counts()"
   ]
  },
  {
   "cell_type": "markdown",
   "metadata": {},
   "source": [
    "I've been sitting and looking at my dataset, trying to figure out how to do mapping. So if the names of the same testings are different now, I need to do something so those names would be the same uniform name. For example, \"анализ крови\", \"оак\" in different labs should become \"ОАК\" in the new table. But then I noticed that in the table of analyses for invivo lab, there are: \n",
    "- Кровь. Общий анализ (эритроциты, гемоглобин, лейкоциты, тромбоциты, лейкоформула), капиллярная кровь\n",
    "- Кровь. Общий анализ (ОАК: эритроциты, гемоглобин, лейкоциты, тромбоциты, СОЭ)\n",
    "- Кровь. Общий анализ крови (ОАК, 34 параметра) \n",
    "- Кровь. Развёрнутый общий анализ крови ( эритроциты, гемоглобин, лейкоциты, тромбоциты, СОЭ, ретикулоциты)\n",
    "- Клинический анализ крови: общий анализ, лейкоформула, СОЭ (с микроскопией мазка крови при наличии патологических сдвигов) (Clinical Blood Analysis: General Blood Analysis, Leucocyte Formula, ESR (with Microscopic Examination of Blood Smear if Presence of Pathologic Changes))\n",
    "- Общий анализ крови (ОАК) (без лейкоцитарной формулы и СОЭ) (General Blood Analysis, without White Blood Cell (WBC) Count and ESR)\n",
    "- ОАК+СОЭ\n",
    "- ОАК\n",
    "\n",
    "all of these are ОАК, but they are different. Other labs do not have this thing. This is the hard thing of mapping. So now I need to come up with specific names for these things. I've come up with the pattern to unify it. \n",
    "ОАК-базовый \n",
    "ОАК+СОЭ \n",
    "ОАК-лейкоформула\n",
    "ОАК-развернутый "
   ]
  },
  {
   "cell_type": "code",
   "execution_count": null,
   "metadata": {},
   "outputs": [],
   "source": [
    "def classify_names(text):\n",
    "    if \"оак\" in text or (\"общий анализ\" and \"кровь\") in text or \"анализ крови\" in text:\n",
    "        if \"развёрнутый\" in text or \"34\" in text or \"клинический\" in text:\n",
    "            return \"ОАК-развёрнутый\"\n",
    "        elif \"лейкоформул\" in text: \n",
    "            return \"ОАК-лейкоформула\"\n",
    "        elif \"соэ\" in text and \"без\" not in text: \n",
    "            return \"ОАК+СОЭ\"\n",
    "        else: \n",
    "            return \"ОАК-базовый\"\n",
    "    elif \"соэ\" in text: \n",
    "        return \"СОЭ\"\n",
    "    elif \"фибриноген\" in text: \n",
    "        return \"Фибриноген\"\n",
    "    elif \"афс\" in text: \n",
    "        return \"АФС\"\n",
    "    elif \"парвовирус\" in text: \n",
    "        return \"ПАРВОВИРУС\"\n",
    "    elif \"метионинсинтазы\":\n",
    "        return \"\""
   ]
  }
 ],
 "metadata": {
  "kernelspec": {
   "display_name": "Python 3",
   "language": "python",
   "name": "python3"
  },
  "language_info": {
   "codemirror_mode": {
    "name": "ipython",
    "version": 3
   },
   "file_extension": ".py",
   "mimetype": "text/x-python",
   "name": "python",
   "nbconvert_exporter": "python",
   "pygments_lexer": "ipython3",
   "version": "3.11.0"
  }
 },
 "nbformat": 4,
 "nbformat_minor": 2
}
